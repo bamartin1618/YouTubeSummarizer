{
 "cells": [
  {
   "cell_type": "code",
   "execution_count": 3,
   "id": "63e1a1e2",
   "metadata": {},
   "outputs": [
    {
     "name": "stdout",
     "output_type": "stream",
     "text": [
      "Requirement already satisfied: youtube-transcript-api in /opt/anaconda3/lib/python3.9/site-packages (0.5.0)\r\n",
      "Requirement already satisfied: requests in /opt/anaconda3/lib/python3.9/site-packages (from youtube-transcript-api) (2.26.0)\r\n",
      "Requirement already satisfied: certifi>=2017.4.17 in /opt/anaconda3/lib/python3.9/site-packages (from requests->youtube-transcript-api) (2021.5.30)\r\n",
      "Requirement already satisfied: idna<4,>=2.5 in /opt/anaconda3/lib/python3.9/site-packages (from requests->youtube-transcript-api) (3.2)\r\n",
      "Requirement already satisfied: charset-normalizer~=2.0.0 in /opt/anaconda3/lib/python3.9/site-packages (from requests->youtube-transcript-api) (2.0.4)\r\n",
      "Requirement already satisfied: urllib3<1.27,>=1.21.1 in /opt/anaconda3/lib/python3.9/site-packages (from requests->youtube-transcript-api) (1.26.6)\r\n"
     ]
    }
   ],
   "source": [
    "!pip3 install youtube-transcript-api"
   ]
  },
  {
   "cell_type": "code",
   "execution_count": 7,
   "id": "8e8566ed",
   "metadata": {},
   "outputs": [
    {
     "data": {
      "text/plain": [
       "\"all right everybody I bet you we're not expecting another video from me so soon but I was not kidding when I said that we want to build our community as much as possible including especially including those um who are not part of TT right now and we're putting our money where our mouth is we think that it's very important to share what you're building as much as it is to actually build it how else are you going to get feedback and know if what you're building is useful so what we're going to do is we're going to have another competition first all of your demo videos should be uploaded to our YouTube channel thanks to our awesome designer Cami who helps run our socials and you should be able to download those from there with some YouTube to MP4 converter or something but the goal is whoever makes the short you know 30 to 90 second video that best summarizes the incubator's impact and the product your team made whoever does that and that gets the most engagement we'll post it on the AI Camp Instagram on Tick Tock and on our YouTube account whoever gets the most engagement there will get a hundred dollars 50 per second and 20 bucks per third you guys make them you ping me or Cami we'll get them uploaded to all three platforms and the winners will be determined by whoever gets the most likes across all Platforms in a month so December 20th we'll check um there but I wouldn't wait till the end because we're only going to upload One A Day Max so if you're interested would love to see what you guys come up with I know that we've got some extremely creative and artistic people in our group um you know not to mention great Developers so I'm really excited to see what you guys put together here um but really this is just the start Blake's having a community session December 3rd where you know we're gonna invite people who are working on or have recently found something cool um to present and get feedback just like in the incubator you know five minute presentation on what you're working on um get some feedback and if you're also not working on something but you're looking to get involved that's a perfect place because if people are getting involved people do want to do that people are submitting to this competition we'll keep the ball rolling we'll do another one for people to highlight the new projects that they're working on the next month so the ball is in your court now you know I'm we're really excited of this for this I'm excited to see what you guys make um let me know if you guys have any feedback on how we can do this best but you know we're looking to iterate you know this is just the start so make something awesome and and let's keep it rolling all right y'all talk soon\""
      ]
     },
     "execution_count": 7,
     "metadata": {},
     "output_type": "execute_result"
    }
   ],
   "source": [
    "from youtube_transcript_api import YouTubeTranscriptApi\n",
    "\n",
    "transcript = YouTubeTranscriptApi.get_transcript('A7TI4yfHoO4', languages=['en'])\n",
    "transcript = ' '.join([segment['text'] for segment in transcript])\n",
    "\n",
    "transcript"
   ]
  },
  {
   "cell_type": "code",
   "execution_count": 16,
   "id": "8cf5a3b9",
   "metadata": {},
   "outputs": [],
   "source": [
    "def build_prompt(transcript):\n",
    "    return f\"The following text is a transcript from an announcement video. Write a set of detailed main points from the transcript that describe the video's content.\\n\\n<<TRANSCRIPT>>\\n\\n{transcript}\\n\\nDetailed main points that describe the video's content. Spare no details:\""
   ]
  },
  {
   "cell_type": "code",
   "execution_count": 18,
   "id": "5d9ac525",
   "metadata": {},
   "outputs": [
    {
     "name": "stdout",
     "output_type": "stream",
     "text": [
      "-The goal is to make a short (30-90 second) video that best summarizes the incubator's impact and the product your team made. \n",
      "-The video should be uploaded to TT's YouTube channel. \n",
      "-Whoever gets the most engagement (likes, views, etc.) across all platforms in a month will get $100. \n",
      "-There will be another competition next month for people to highlight new projects they're working on. \n",
      "- Blake is having a community session December 3rd where people who are working on or have recently found something cool can present and get feedback.\n"
     ]
    }
   ],
   "source": [
    "import openai\n",
    "import os\n",
    "\n",
    "openai.api_key = os.getenv('GPT_KEY')\n",
    "\n",
    "response = openai.Completion.create(\n",
    "    model='text-davinci-002',\n",
    "    prompt=build_prompt(transcript),\n",
    "    temperature=0.7,\n",
    "    max_tokens=256,\n",
    "    top_p=0.9,\n",
    "    frequency_penalty=0.95,\n",
    "    presence_penalty=0.95\n",
    ")\n",
    "\n",
    "print(response['choices'][0]['text'].strip())"
   ]
  },
  {
   "cell_type": "code",
   "execution_count": null,
   "id": "fff7545f",
   "metadata": {},
   "outputs": [],
   "source": []
  }
 ],
 "metadata": {
  "kernelspec": {
   "display_name": "Python 3 (ipykernel)",
   "language": "python",
   "name": "python3"
  },
  "language_info": {
   "codemirror_mode": {
    "name": "ipython",
    "version": 3
   },
   "file_extension": ".py",
   "mimetype": "text/x-python",
   "name": "python",
   "nbconvert_exporter": "python",
   "pygments_lexer": "ipython3",
   "version": "3.9.12"
  }
 },
 "nbformat": 4,
 "nbformat_minor": 5
}
