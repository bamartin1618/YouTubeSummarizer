{
 "cells": [
  {
   "cell_type": "code",
   "execution_count": 36,
   "id": "ae63c184",
   "metadata": {},
   "outputs": [
    {
     "name": "stdout",
     "output_type": "stream",
     "text": [
      "Requirement already satisfied: youtube-transcript-api in /opt/anaconda3/lib/python3.9/site-packages (0.5.0)\r\n",
      "Requirement already satisfied: requests in /opt/anaconda3/lib/python3.9/site-packages (from youtube-transcript-api) (2.26.0)\r\n",
      "Requirement already satisfied: certifi>=2017.4.17 in /opt/anaconda3/lib/python3.9/site-packages (from requests->youtube-transcript-api) (2021.5.30)\r\n",
      "Requirement already satisfied: charset-normalizer~=2.0.0 in /opt/anaconda3/lib/python3.9/site-packages (from requests->youtube-transcript-api) (2.0.4)\r\n",
      "Requirement already satisfied: idna<4,>=2.5 in /opt/anaconda3/lib/python3.9/site-packages (from requests->youtube-transcript-api) (3.2)\r\n",
      "Requirement already satisfied: urllib3<1.27,>=1.21.1 in /opt/anaconda3/lib/python3.9/site-packages (from requests->youtube-transcript-api) (1.26.6)\r\n"
     ]
    }
   ],
   "source": [
    "!pip3 install youtube-transcript-api"
   ]
  },
  {
   "cell_type": "code",
   "execution_count": 37,
   "id": "059e411f",
   "metadata": {},
   "outputs": [],
   "source": [
    "from youtube_transcript_api import YouTubeTranscriptApi\n",
    "\n",
    "def grab_transcript(link):\n",
    "    \n",
    "    video_id = link.split('=')[-1]\n",
    "    \n",
    "    transcript = YouTubeTranscriptApi.get_transcript(video_id, languages=['en'])\n",
    "    transcript = ' '.join([segment['text'] for segment in transcript])\n",
    "\n",
    "    transcript"
   ]
  },
  {
   "cell_type": "code",
   "execution_count": 40,
   "id": "ae081b42",
   "metadata": {},
   "outputs": [],
   "source": [
    "def build_prompt(transcript):\n",
    "    return f\"The following text is a transcript from a video. Write a set of detailed main points from the transcript that describe the video's content.\\n\\n<<TRANSCRIPT>>\\n\\n{transcript}\\n\\nDetailed main points that describe the video's content. Spare no details:\""
   ]
  },
  {
   "cell_type": "code",
   "execution_count": 42,
   "id": "4ee3e6f9",
   "metadata": {},
   "outputs": [
    {
     "name": "stdout",
     "output_type": "stream",
     "text": [
      "Give a YouTube link to summarize: https://www.youtube.com/watch?v=_NeJ3Kg6OUo\n",
      "-The video is a tour of the Coca Cola factory in Atlanta, Georgia. \n",
      "-The tour guide explains that the first step in making Coca Cola is to make syrup from sugar cane. \n",
      "-Then, the syrup is mixed with carbonated water and flavorings to create the finished product. \n",
      "-The tour guide explains that every can of Coca Cola contains a small amount of cocaine. \n",
      "-Coca Cola was originally created as a medicinal tonic and was sold in pharmacies. \n",
      "-Coca Cola was first bottled in 1894, and it has been one of the most popular beverages in the world ever since.\n"
     ]
    }
   ],
   "source": [
    "import openai\n",
    "import os\n",
    "\n",
    "openai.api_key = os.getenv('GPT_KEY')\n",
    "\n",
    "link = input('Give a YouTube link to summarize: ')\n",
    "\n",
    "try:\n",
    "    response = openai.Completion.create(\n",
    "        model='text-davinci-002',\n",
    "        prompt=build_prompt(grab_transcript(link)),\n",
    "        temperature=0.7,\n",
    "        max_tokens=256,\n",
    "        top_p=0.9,\n",
    "        frequency_penalty=0.95,\n",
    "        presence_penalty=0.95\n",
    "    )\n",
    "\n",
    "    print(response['choices'][0]['text'].strip())\n",
    "except Exception as e:\n",
    "    print(e)\n",
    "    print('Error occurred.')"
   ]
  },
  {
   "cell_type": "code",
   "execution_count": null,
   "id": "fcfc3dcf",
   "metadata": {},
   "outputs": [],
   "source": []
  }
 ],
 "metadata": {
  "kernelspec": {
   "display_name": "Python 3 (ipykernel)",
   "language": "python",
   "name": "python3"
  },
  "language_info": {
   "codemirror_mode": {
    "name": "ipython",
    "version": 3
   },
   "file_extension": ".py",
   "mimetype": "text/x-python",
   "name": "python",
   "nbconvert_exporter": "python",
   "pygments_lexer": "ipython3",
   "version": "3.9.12"
  }
 },
 "nbformat": 4,
 "nbformat_minor": 5
}
